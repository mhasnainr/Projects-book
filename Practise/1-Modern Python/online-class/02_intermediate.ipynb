{
  "nbformat": 4,
  "nbformat_minor": 0,
  "metadata": {
    "colab": {
      "provenance": [],
      "collapsed_sections": [
        "ift_6XNaehFP",
        "9swxQSf8h1O8",
        "MCtHcqPYsYTm"
      ]
    },
    "kernelspec": {
      "name": "python3",
      "display_name": "Python 3"
    },
    "language_info": {
      "name": "python"
    }
  },
  "cells": [
    {
      "cell_type": "markdown",
      "source": [
        "# Control Flow for Console"
      ],
      "metadata": {
        "id": "ift_6XNaehFP"
      }
    },
    {
      "cell_type": "code",
      "execution_count": null,
      "metadata": {
        "id": "y9eKRkomeKgX"
      },
      "outputs": [],
      "source": [
        "import random\n",
        "\n",
        "num_rounds = 5"
      ]
    },
    {
      "cell_type": "code",
      "source": [
        "def game():\n",
        "  print(\"Welcome to the High-Low Game!\")\n",
        "  print(\"-----------------------------\")\n",
        "\n",
        "  your_score = 0\n",
        "\n",
        "  for i in range(num_rounds):\n",
        "    print(\"\\nRound\", i + 1)\n",
        "\n",
        "    pc: int = random.randint(1, 50)\n",
        "    you: int = random.randint(1, 50)\n",
        "    print(f\"Your number is: {you}\")\n",
        "\n",
        "    choice: str = input(\"Is your number higher or lower than system's: \").lower()\n",
        "\n",
        "    # note:\n",
        "    # h_and_c: higher and correct\n",
        "    # l_and_c: lower and correct\n",
        "\n",
        "    h_and_c: bool = choice in [\"higher\" or 'h'] and you > pc\n",
        "    l_and_c: bool = choice in [\"lower\" or 'l'] and you < pc\n",
        "\n",
        "    if h_and_c or l_and_c:\n",
        "      your_score += 1\n",
        "      print(f\"You are right! PC's number is {pc}\")\n",
        "    else:\n",
        "      print(f\"You are wrong! PC's number is {pc}\")\n",
        "\n",
        "    print(f\"Now, your score is {your_score}\")\n",
        "\n",
        "game()"
      ],
      "metadata": {
        "colab": {
          "base_uri": "https://localhost:8080/"
        },
        "id": "oymUR3K9qPFe",
        "outputId": "a11e5856-08d2-43ee-981f-85d421b01747"
      },
      "execution_count": null,
      "outputs": [
        {
          "output_type": "stream",
          "name": "stdout",
          "text": [
            "Welcome to the High-Low Game!\n",
            "-----------------------------\n",
            "\n",
            "Round 1\n",
            "Your number is: 10\n",
            "Is your number higher or lower than system's: hIgher\n",
            "You are wrong! PC's number is 46\n",
            "Now, your score is 0\n",
            "\n",
            "Round 2\n",
            "Your number is: 11\n",
            "Is your number higher or lower than system's: lOwer\n",
            "You are right! PC's number is 49\n",
            "Now, your score is 1\n",
            "\n",
            "Round 3\n",
            "Your number is: 2\n",
            "Is your number higher or lower than system's: h\n",
            "You are wrong! PC's number is 30\n",
            "Now, your score is 1\n",
            "\n",
            "Round 4\n",
            "Your number is: 17\n",
            "Is your number higher or lower than system's: l\n",
            "You are wrong! PC's number is 48\n",
            "Now, your score is 1\n",
            "\n",
            "Round 5\n",
            "Your number is: 43\n",
            "Is your number higher or lower than system's: h\n",
            "You are wrong! PC's number is 43\n",
            "Now, your score is 1\n"
          ]
        }
      ]
    },
    {
      "cell_type": "markdown",
      "source": [
        "# Planetary Weight Calculator"
      ],
      "metadata": {
        "id": "9swxQSf8h1O8"
      }
    },
    {
      "cell_type": "code",
      "source": [
        "planet_factors = {\"Mercury\": .376, \"Venus\": .907, \"Mars\": 0.377, \"Jupiter\": 2.36, \"Saturn\": 0.916, \"Uranus\": 0.889, \"Neptune\": 1.12}\n",
        "\n",
        "earth_weight = float(input(\"Enter weight on Earth: \"))\n",
        "\n",
        "# Option 2: Change the dictionary keys to lowercase (e.g., \"mercury\": 0.376) and keep .lower().\n",
        "planet: str = input(\"Enter a planet: \").capitalize()\n",
        "\n",
        "factor_planet = planet_factors[planet]\n",
        "planet_weight = earth_weight * factor_planet\n",
        "\n",
        "rounded_weight = round(planet_weight, 2)\n",
        "\n",
        "print(f\"Your weight on {planet} is {rounded_weight}\")"
      ],
      "metadata": {
        "colab": {
          "base_uri": "https://localhost:8080/"
        },
        "id": "j0ZFSeE0h3tF",
        "outputId": "0c50f840-c52f-44c7-f895-a2ac2bd40cbc"
      },
      "execution_count": null,
      "outputs": [
        {
          "output_type": "stream",
          "name": "stdout",
          "text": [
            "Enter weight on Earth: 544.3\n",
            "Enter a planet: mArs\n",
            "Your weight on Mars is 205.2\n"
          ]
        }
      ]
    },
    {
      "cell_type": "markdown",
      "source": [
        "# Lists and Dicts"
      ],
      "metadata": {
        "id": "MCtHcqPYsYTm"
      }
    },
    {
      "cell_type": "markdown",
      "source": [
        "**List Practice**"
      ],
      "metadata": {
        "id": "pxhIrilBjHTL"
      }
    },
    {
      "cell_type": "code",
      "source": [
        "def main():\n",
        "  fruit_list = ['apple', 'banana', 'orange', 'grape', 'pineapple']\n",
        "  size = len(fruit_list)\n",
        "\n",
        "  print(f\"Length of the list is: {size}\")\n",
        "\n",
        "  fruit_list.append('mango')\n",
        "  print(fruit_list)\n",
        "\n",
        "main()"
      ],
      "metadata": {
        "id": "lNa1cDKint7K",
        "colab": {
          "base_uri": "https://localhost:8080/"
        },
        "outputId": "2cda351b-af15-45dd-a5e2-4b3cccf033f4"
      },
      "execution_count": null,
      "outputs": [
        {
          "output_type": "stream",
          "name": "stdout",
          "text": [
            "Length of the list is: 5\n",
            "['apple', 'banana', 'orange', 'grape', 'pineapple', 'mango']\n"
          ]
        }
      ]
    },
    {
      "cell_type": "markdown",
      "source": [
        "**Index Game**"
      ],
      "metadata": {
        "id": "WDjBEqcZjKzJ"
      }
    },
    {
      "cell_type": "code",
      "source": [
        "print(\"Welcome to Index Game\")\n",
        "print(\"----------------------\")\n",
        "\n",
        "def access(lst, index):\n",
        "  try:\n",
        "      return lst[index]\n",
        "  except IndexError:\n",
        "      return \"Index out of range\"\n",
        "\n",
        "def modify(lst, index, new_value):\n",
        "  try:\n",
        "      lst[index] = new_value\n",
        "      return lst\n",
        "  except IndexError:\n",
        "      return \"Index out of range\"\n",
        "\n",
        "def slice_list(lst, start, end):\n",
        "  try:\n",
        "      return lst[start:end]\n",
        "  except IndexError:\n",
        "      return \"Invalid indices\"\n",
        "\n",
        "def index_game():\n",
        "  lst = [1, 2, 3, 4, 5]\n",
        "  print(f\"\\nCurrent list: {lst}\")\n",
        "  print(f\"Choose an operation: access, modify, slice\")\n",
        "  operation = input(\"Enter operation: \").capitalize()\n",
        "\n",
        "  if operation == 'Access':\n",
        "    index = int(input(\"Enter index to access: \"))\n",
        "    print(access(lst, index))\n",
        "\n",
        "  elif operation == \"Modify\":\n",
        "    index = int(input(\"Enter index to modify: \"))\n",
        "    new_value = input(\"Enter new value: \")\n",
        "    print(modify(lst, index, new_value))\n",
        "\n",
        "  elif operation == 'Slice':\n",
        "    start = int(input(\"Enter start index: \"))\n",
        "    end = int(input(\"Enter end index: \"))\n",
        "    print(slice(lst, start, end))\n",
        "\n",
        "  else:\n",
        "    print(\"Invalid operation\")\n",
        "\n",
        "index_game()"
      ],
      "metadata": {
        "colab": {
          "base_uri": "https://localhost:8080/"
        },
        "id": "93iaJcVmjOnj",
        "outputId": "2e9f65e4-eb96-4355-84a6-9d224cb8d2ad"
      },
      "execution_count": null,
      "outputs": [
        {
          "output_type": "stream",
          "name": "stdout",
          "text": [
            "Welcome to Index Game\n",
            "----------------------\n",
            "\n",
            "Current list: [1, 2, 3, 4, 5]\n",
            "Choose an operation: access, modify, slice\n",
            "Enter operation: access\n",
            "Enter index to access: 3\n",
            "4\n"
          ]
        }
      ]
    }
  ]
}